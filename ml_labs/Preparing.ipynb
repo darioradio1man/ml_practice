{
 "cells": [
  {
   "cell_type": "code",
   "execution_count": 1,
   "metadata": {},
   "outputs": [],
   "source": [
    "import pandas as pd"
   ]
  },
  {
   "cell_type": "code",
   "execution_count": 2,
   "metadata": {},
   "outputs": [
    {
     "data": {
      "text/plain": [
       "['test_player.csv',\n",
       " 'Untitled.ipynb',\n",
       " 'purchase_log.csv',\n",
       " 'players.csv',\n",
       " '.ipynb_checkpoints',\n",
       " 'objectives.csv',\n",
       " 'patch_dates.csv',\n",
       " 'player_time.csv',\n",
       " 'teamfights_players.csv',\n",
       " 'cluster_regions.csv',\n",
       " 'match_outcomes.csv',\n",
       " 'ability_ids.csv',\n",
       " 'hero_names.csv',\n",
       " 'teamfights.csv',\n",
       " 'test_labels.csv',\n",
       " 'player_ratings.csv',\n",
       " 'chat.csv',\n",
       " 'item_ids.csv',\n",
       " 'ability_upgrades.csv',\n",
       " 'yasp_sample.json',\n",
       " 'match.csv']"
      ]
     },
     "execution_count": 2,
     "metadata": {},
     "output_type": "execute_result"
    }
   ],
   "source": [
    "import os\n",
    "os.listdir(\"./\")"
   ]
  },
  {
   "cell_type": "code",
   "execution_count": 3,
   "metadata": {},
   "outputs": [],
   "source": [
    "players = pd.read_csv('./players.csv')\n",
    "matches = pd.read_csv('./match.csv')\n",
    "heroes = pd.read_csv('./hero_names.csv')\n",
    "items = pd.read_csv('./item_ids.csv')"
   ]
  },
  {
   "cell_type": "code",
   "execution_count": 5,
   "metadata": {},
   "outputs": [],
   "source": [
    "hero_lookup = dict(zip(heroes['hero_id'], heroes['localized_name']))\n",
    "hero_lookup[0] = 'Unknown'\n",
    "players['hero'] = players['hero_id'].apply(lambda _id: hero_lookup[_id])"
   ]
  },
  {
   "cell_type": "code",
   "execution_count": 6,
   "metadata": {},
   "outputs": [],
   "source": [
    "item_lookup = dict(zip(items['item_id'], items['item_name']))\n",
    "item_lookup[0] = 'Unknown'\n",
    "\n",
    "def find_item(_id):\n",
    "    return item_lookup.get(_id, 'u_' + str(_id))\n",
    "\n",
    "\n",
    "players['item_0'] = players['item_0'].apply(find_item)\n",
    "players['item_1'] = players['item_1'].apply(find_item)\n",
    "players['item_2'] = players['item_2'].apply(find_item)\n",
    "players['item_3'] = players['item_3'].apply(find_item)\n",
    "players['item_4'] = players['item_4'].apply(find_item)\n",
    "players['item_5'] = players['item_5'].apply(find_item)"
   ]
  },
  {
   "cell_type": "code",
   "execution_count": 7,
   "metadata": {},
   "outputs": [],
   "source": [
    "player_heroes = pd.get_dummies(players['hero'])"
   ]
  },
  {
   "cell_type": "code",
   "execution_count": 8,
   "metadata": {},
   "outputs": [],
   "source": [
    "item0 = pd.get_dummies(players['item_0'].fillna(0))\n",
    "item1 = pd.get_dummies(players['item_1'].fillna(0))\n",
    "item2 = pd.get_dummies(players['item_2'].fillna(0))\n",
    "item3 = pd.get_dummies(players['item_3'].fillna(0))\n",
    "item4 = pd.get_dummies(players['item_4'].fillna(0))\n",
    "item5 = pd.get_dummies(players['item_5'].fillna(0))"
   ]
  },
  {
   "cell_type": "code",
   "execution_count": 9,
   "metadata": {},
   "outputs": [],
   "source": [
    "player_items = item0 \\\n",
    "    .add(item1, fill_value=0) \\\n",
    "    .add(item2, fill_value=0) \\\n",
    "    .add(item3, fill_value=0) \\\n",
    "    .add(item4, fill_value=0) \\\n",
    "    .add(item5, fill_value=0)"
   ]
  },
  {
   "cell_type": "code",
   "execution_count": 13,
   "metadata": {},
   "outputs": [],
   "source": [
    "radiant_cols = list(map(lambda s: 'radiant_' + s, player_heroes.columns.values))\n",
    "dire_cols = list(map(lambda s: 'dire_' + s, player_heroes.columns.values))"
   ]
  },
  {
   "cell_type": "code",
   "execution_count": 14,
   "metadata": {},
   "outputs": [],
   "source": [
    "radiant_items_cols = list(map(lambda s: 'radiant_' + str(s), player_items.columns.values))\n",
    "dire_items_cols = list(map(lambda s: 'dire_' + str(s), player_items.columns.values))"
   ]
  },
  {
   "cell_type": "code",
   "execution_count": 16,
   "metadata": {},
   "outputs": [],
   "source": [
    "X = None\n",
    "radiant_heroes = []\n",
    "dire_heroes = []\n",
    "radiant_items = []\n",
    "dire_items = []\n",
    "\n",
    "for _id, _index in players.groupby('match_id').groups.items():\n",
    "    radiant_heroes.append(player_heroes.iloc[_index][:5].sum().values)\n",
    "    dire_heroes.append(player_heroes.iloc[_index][5:].sum().values)\n",
    "    radiant_items.append(player_items.iloc[_index][:5].sum().values)\n",
    "    dire_items.append(player_items.iloc[_index][5:].sum().values)\n",
    "    \n",
    "radiant_heroes = pd.DataFrame(radiant_heroes, columns=radiant_cols)\n",
    "dire_heroes = pd.DataFrame(dire_heroes, columns=dire_cols)\n",
    "radiant_items = pd.DataFrame(radiant_items, columns=radiant_items_cols)\n",
    "dire_items = pd.DataFrame(dire_items, columns=dire_items_cols)\n",
    "X = pd.concat([radiant_heroes, radiant_items, dire_heroes, dire_items], axis=1)"
   ]
  },
  {
   "cell_type": "code",
   "execution_count": 17,
   "metadata": {},
   "outputs": [],
   "source": [
    "X.to_csv('./mapped_match_hero_item.csv', index=False)"
   ]
  },
  {
   "cell_type": "code",
   "execution_count": null,
   "metadata": {},
   "outputs": [],
   "source": []
  }
 ],
 "metadata": {
  "kernelspec": {
   "display_name": "Python 3",
   "language": "python",
   "name": "python3"
  },
  "language_info": {
   "codemirror_mode": {
    "name": "ipython",
    "version": 3
   },
   "file_extension": ".py",
   "mimetype": "text/x-python",
   "name": "python",
   "nbconvert_exporter": "python",
   "pygments_lexer": "ipython3",
   "version": "3.7.1"
  }
 },
 "nbformat": 4,
 "nbformat_minor": 2
}
